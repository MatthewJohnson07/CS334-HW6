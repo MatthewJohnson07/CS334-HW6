{
 "cells": [
  {
   "cell_type": "code",
   "execution_count": 3,
   "metadata": {},
   "outputs": [],
   "source": [
    "import numpy as np\n",
    "import pandas as pd\n",
    "from sklearn import model_selection"
   ]
  },
  {
   "cell_type": "markdown",
   "metadata": {},
   "source": [
    "## Download CSV\n",
    "Given that decision trees can be used for classification, I'm going to leave in the '?'s as is throughout this assignment. "
   ]
  },
  {
   "cell_type": "code",
   "execution_count": 185,
   "metadata": {
    "scrolled": true
   },
   "outputs": [
    {
     "data": {
      "text/html": [
       "<div>\n",
       "<style scoped>\n",
       "    .dataframe tbody tr th:only-of-type {\n",
       "        vertical-align: middle;\n",
       "    }\n",
       "\n",
       "    .dataframe tbody tr th {\n",
       "        vertical-align: top;\n",
       "    }\n",
       "\n",
       "    .dataframe thead th {\n",
       "        text-align: right;\n",
       "    }\n",
       "</style>\n",
       "<table border=\"1\" class=\"dataframe\">\n",
       "  <thead>\n",
       "    <tr style=\"text-align: right;\">\n",
       "      <th></th>\n",
       "      <th>Class Name</th>\n",
       "      <th>handicapped-infants</th>\n",
       "      <th>water-project-cost-sharing</th>\n",
       "      <th>adoption-of-the-budget-resolution</th>\n",
       "      <th>physician-fee-freeze</th>\n",
       "      <th>el-salvador-aid</th>\n",
       "      <th>religious-groups-in-schools</th>\n",
       "      <th>anti-satellite-test-ban</th>\n",
       "      <th>aid-to-nicaraguan-contras</th>\n",
       "      <th>mx-missile</th>\n",
       "      <th>immigration</th>\n",
       "      <th>synfuels-corporation-cutback</th>\n",
       "      <th>education-spending</th>\n",
       "      <th>superfund-right-to-sue</th>\n",
       "      <th>crime</th>\n",
       "      <th>duty-free-exports</th>\n",
       "      <th>export-administration-act-south-africa</th>\n",
       "    </tr>\n",
       "  </thead>\n",
       "  <tbody>\n",
       "    <tr>\n",
       "      <th>0</th>\n",
       "      <td>republican</td>\n",
       "      <td>n</td>\n",
       "      <td>y</td>\n",
       "      <td>n</td>\n",
       "      <td>y</td>\n",
       "      <td>y</td>\n",
       "      <td>y</td>\n",
       "      <td>n</td>\n",
       "      <td>n</td>\n",
       "      <td>n</td>\n",
       "      <td>y</td>\n",
       "      <td>?</td>\n",
       "      <td>y</td>\n",
       "      <td>y</td>\n",
       "      <td>y</td>\n",
       "      <td>n</td>\n",
       "      <td>y</td>\n",
       "    </tr>\n",
       "    <tr>\n",
       "      <th>1</th>\n",
       "      <td>republican</td>\n",
       "      <td>n</td>\n",
       "      <td>y</td>\n",
       "      <td>n</td>\n",
       "      <td>y</td>\n",
       "      <td>y</td>\n",
       "      <td>y</td>\n",
       "      <td>n</td>\n",
       "      <td>n</td>\n",
       "      <td>n</td>\n",
       "      <td>n</td>\n",
       "      <td>n</td>\n",
       "      <td>y</td>\n",
       "      <td>y</td>\n",
       "      <td>y</td>\n",
       "      <td>n</td>\n",
       "      <td>?</td>\n",
       "    </tr>\n",
       "    <tr>\n",
       "      <th>2</th>\n",
       "      <td>democrat</td>\n",
       "      <td>?</td>\n",
       "      <td>y</td>\n",
       "      <td>y</td>\n",
       "      <td>?</td>\n",
       "      <td>y</td>\n",
       "      <td>y</td>\n",
       "      <td>n</td>\n",
       "      <td>n</td>\n",
       "      <td>n</td>\n",
       "      <td>n</td>\n",
       "      <td>y</td>\n",
       "      <td>n</td>\n",
       "      <td>y</td>\n",
       "      <td>y</td>\n",
       "      <td>n</td>\n",
       "      <td>n</td>\n",
       "    </tr>\n",
       "    <tr>\n",
       "      <th>3</th>\n",
       "      <td>democrat</td>\n",
       "      <td>n</td>\n",
       "      <td>y</td>\n",
       "      <td>y</td>\n",
       "      <td>n</td>\n",
       "      <td>?</td>\n",
       "      <td>y</td>\n",
       "      <td>n</td>\n",
       "      <td>n</td>\n",
       "      <td>n</td>\n",
       "      <td>n</td>\n",
       "      <td>y</td>\n",
       "      <td>n</td>\n",
       "      <td>y</td>\n",
       "      <td>n</td>\n",
       "      <td>n</td>\n",
       "      <td>y</td>\n",
       "    </tr>\n",
       "    <tr>\n",
       "      <th>4</th>\n",
       "      <td>democrat</td>\n",
       "      <td>y</td>\n",
       "      <td>y</td>\n",
       "      <td>y</td>\n",
       "      <td>n</td>\n",
       "      <td>y</td>\n",
       "      <td>y</td>\n",
       "      <td>n</td>\n",
       "      <td>n</td>\n",
       "      <td>n</td>\n",
       "      <td>n</td>\n",
       "      <td>y</td>\n",
       "      <td>?</td>\n",
       "      <td>y</td>\n",
       "      <td>y</td>\n",
       "      <td>y</td>\n",
       "      <td>y</td>\n",
       "    </tr>\n",
       "  </tbody>\n",
       "</table>\n",
       "</div>"
      ],
      "text/plain": [
       "   Class Name handicapped-infants water-project-cost-sharing  \\\n",
       "0  republican                   n                          y   \n",
       "1  republican                   n                          y   \n",
       "2    democrat                   ?                          y   \n",
       "3    democrat                   n                          y   \n",
       "4    democrat                   y                          y   \n",
       "\n",
       "  adoption-of-the-budget-resolution physician-fee-freeze el-salvador-aid  \\\n",
       "0                                 n                    y               y   \n",
       "1                                 n                    y               y   \n",
       "2                                 y                    ?               y   \n",
       "3                                 y                    n               ?   \n",
       "4                                 y                    n               y   \n",
       "\n",
       "  religious-groups-in-schools anti-satellite-test-ban  \\\n",
       "0                           y                       n   \n",
       "1                           y                       n   \n",
       "2                           y                       n   \n",
       "3                           y                       n   \n",
       "4                           y                       n   \n",
       "\n",
       "  aid-to-nicaraguan-contras mx-missile immigration  \\\n",
       "0                         n          n           y   \n",
       "1                         n          n           n   \n",
       "2                         n          n           n   \n",
       "3                         n          n           n   \n",
       "4                         n          n           n   \n",
       "\n",
       "  synfuels-corporation-cutback education-spending superfund-right-to-sue  \\\n",
       "0                            ?                  y                      y   \n",
       "1                            n                  y                      y   \n",
       "2                            y                  n                      y   \n",
       "3                            y                  n                      y   \n",
       "4                            y                  ?                      y   \n",
       "\n",
       "  crime duty-free-exports export-administration-act-south-africa  \n",
       "0     y                 n                                      y  \n",
       "1     y                 n                                      ?  \n",
       "2     y                 n                                      n  \n",
       "3     n                 n                                      y  \n",
       "4     y                 y                                      y  "
      ]
     },
     "execution_count": 185,
     "metadata": {},
     "output_type": "execute_result"
    }
   ],
   "source": [
    "house_votes = pd.read_csv(\"house-votes-84.csv\")\n",
    "house_votes.head()"
   ]
  },
  {
   "cell_type": "markdown",
   "metadata": {},
   "source": [
    "## Training and Test Data Set"
   ]
  },
  {
   "cell_type": "code",
   "execution_count": 48,
   "metadata": {},
   "outputs": [],
   "source": [
    "feature_names = ['handicapped-infants','water-project-cost-sharing','adoption-of-the-budget-resolution','physician-fee-freeze','el-salvador-aid','religious-groups-in-schools','anti-satellite-test-ban','aid-to-nicaraguan-contras','mx-missile','immigration','synfuels-corporation-cutback','education-spending','superfund-right-to-sue','crime','duty-free-exports','export-administration-act-south-africa']\n",
    "label = ['Class-Name']\n",
    "\n",
    "# Convert Dataframe to two arrays (features rows, label rows)\n",
    "X = house_votes[feature_names].values\n",
    "Y = house_votes['Class Name'].values.reshape(-1,1)\n",
    "\n",
    "from sklearn.model_selection import train_test_split\n",
    "X_train,X_test,y_train,y_test=train_test_split(X,Y, test_size=0.30, random_state=0)"
   ]
  },
  {
   "cell_type": "markdown",
   "metadata": {},
   "source": [
    "## Implement Node Class\n",
    "Decision Tree contains two types of nodes. Decision Nodes and Leaf Nodes. For the decision node, it contains a feature index as well as a threshold for that feature. Left and Right utilized to access child nodes. Instead of two separate nodes, I combined into one Node class where leaf_value is only instantiated once we reach a leaf. All parameters are given a default of None."
   ]
  },
  {
   "cell_type": "code",
   "execution_count": 193,
   "metadata": {},
   "outputs": [],
   "source": [
    "class Node():\n",
    "    def __init__(self, feature_index=None, left=None, right=None, threshold=None, info_gain=None, leaf_value=None):\n",
    "        self.feature_index = feature_index\n",
    "        self.left = left\n",
    "        self.right = right\n",
    "        self.threshold = threshold\n",
    "        self.info_gain = info_gain\n",
    "        self.leaf_value = leaf_value "
   ]
  },
  {
   "cell_type": "markdown",
   "metadata": {},
   "source": [
    "## Implement Decision Tree Class"
   ]
  },
  {
   "cell_type": "code",
   "execution_count": 209,
   "metadata": {},
   "outputs": [],
   "source": [
    "class DecisionTree():\n",
    "    \n",
    "    '''Constructor\n",
    "        min_split_num, represents minimum number of samples in order for split\n",
    "        max_depth, represents the number of levels allowed in the tree\n",
    "        root, a Node that is originally set to null. Instantiated when fit() is called\n",
    "    '''    \n",
    "    def __init__(self,min_split_num=2, max_depth=2):\n",
    "        self.root = None\n",
    "        \n",
    "        self.min_split_num = min_split_num\n",
    "        self.max_depth = max_depth\n",
    "    \n",
    "    '''Constructs Decision Tree with default current depth as 0'''\n",
    "    def build_tree(self, data, current_depth=0):\n",
    "        X,Y = data[:,:-1],data[:,-1]\n",
    "        \n",
    "        num_samples,num_features = np.shape(X)\n",
    "        \n",
    "        if num_samples >= self.min_split_num and current_depth <= self.max_depth:\n",
    "            best_split = self.find_best_split(data, num_samples, num_features)\n",
    "            \n",
    "            if best_split['info_gain'] > 0:\n",
    "                left_tree = self.build_tree(best_split['data_left'], current_depth + 1)\n",
    "    \n",
    "                right_tree = self.build_tree(best_split['data_right'], current_depth + 1)\n",
    "    \n",
    "                #Root/Decision Node\n",
    "                return Node(best_split['feature_index'], left_tree, right_tree, best_split['threshold'], best_split['info_gain'])\n",
    "    \n",
    "        leaf_list = list(Y)\n",
    "        leaf_val = max(leaf_list, key=leaf_list.count)\n",
    "        \n",
    "        return Node(leaf_value=leaf_val)\n",
    "    \n",
    "    '''find_best_split loops through all features and all values within those features in\n",
    "       order to find thresholds with the highest calculated info gain'''\n",
    "    def find_best_split(self, data, num_samples, num_features):\n",
    "        split_dict = {}\n",
    "        max_gain = -10000 # Temporary value, looping and comparing to current max_gain throughout loop\n",
    "        \n",
    "        for index in range(num_features):\n",
    "            values = data[:, index]\n",
    "            \n",
    "            # Get all unique values of a given feature\n",
    "            feature_unique_values = np.unique(values)\n",
    "            \n",
    "            for threshold in feature_unique_values:\n",
    "                # Splits current dataset\n",
    "                data_left, data_right = self.split(data, index, threshold)\n",
    "                \n",
    "                # Check children to ensure they aren't empty\n",
    "                if len(data_left) > 0 and len(data_right) > 0:\n",
    "                    \n",
    "                    # remove label from each dataset\n",
    "                    parent = data[:,-1]\n",
    "                    child_left = data_left[:,-1]\n",
    "                    child_right = data_right[:,-1]\n",
    "                    \n",
    "                    check_info_gain = self.get_info_gain(parent, child_left, child_right)\n",
    "                    \n",
    "                    if check_info_gain > max_gain: # ensures only a higher gain is set, otherwise loop to next threshold\n",
    "                        split_dict['feature_index'] = index\n",
    "                        split_dict['threshold'] = threshold\n",
    "                        split_dict['data_left'] = data_left\n",
    "                        split_dict['data_right'] = data_right\n",
    "                        split_dict['info_gain'] = check_info_gain\n",
    "                        max_gain = check_info_gain #recursive, must finish all features\n",
    "        \n",
    "        return split_dict\n",
    "    \n",
    "    '''Splits based on whether the current value of the feature column matches the threshold we are trying to calculate'''\n",
    "    def split(self, data, index, threshold):\n",
    "        #Create left branch\n",
    "        true_rows = []\n",
    "        false_rows = []\n",
    "        \n",
    "        for row in data:\n",
    "            if row[index] <= threshold:\n",
    "                true_rows.append(row)\n",
    "            else:\n",
    "                false_rows.append(row)\n",
    "                \n",
    "        data_left = np.array(true_rows)\n",
    "        data_right = np.array(false_rows)\n",
    "        \n",
    "        return data_left,data_right\n",
    "    \n",
    "    '''Uses Gini Impurity calculations on parent and left/right children. Returns calculated gain'''\n",
    "    def get_info_gain(self, parent, left_child, right_child):\n",
    "        left_weight = len(left_child) / len(parent)\n",
    "        right_weight = len(right_child) / len(parent)\n",
    "        \n",
    "        sum_gain_children = (left_weight * self.gini(left_child)) + (right_weight * self.gini(right_child))\n",
    "        gain = self.gini(parent) - sum_gain_children\n",
    "        \n",
    "        return gain\n",
    "    \n",
    "    def gini(self, parent):\n",
    "        labels = np.unique(parent)\n",
    "        gini = 1\n",
    "        \n",
    "        for label in labels:\n",
    "            num_rows_true = parent[parent == label]\n",
    "            \n",
    "            p = len(num_rows_true) / len(parent)\n",
    "            gini -= p**2   \n",
    "            \n",
    "        return gini\n",
    "    \n",
    "    def fit(self, X, Y):\n",
    "        # Data in build_tree is one single pd.array so combining them solves this design flaw\n",
    "        data = np.concatenate((X, Y), axis=1) #Switches label to last column, instead of first\n",
    "        \n",
    "        self.root = self.build_tree(data) # set root for entire root\n",
    "    \n",
    "    def predict_results(self, X):\n",
    "        results = []\n",
    "        for row in X:\n",
    "            results.append(self.predict(self.root, row))\n",
    "        return pd.array(results)\n",
    "    \n",
    "    def predict(self, tree, x):\n",
    "        if tree.leaf_value is not None:\n",
    "            return tree.leaf_value\n",
    "        \n",
    "        feature_value = x[tree.feature_index]\n",
    "        \n",
    "        if feature_value <= tree.threshold:\n",
    "            return self.predict(tree.left, x)\n",
    "        else:\n",
    "            return self.predict(tree.right, x)\n",
    "    \n",
    "    def print_results(self, tree = None, spacing=\"   \"):\n",
    "        if tree is None:\n",
    "            tree = self.root\n",
    "            \n",
    "        if tree.leaf_value is not None:\n",
    "            print(tree.leaf_value)\n",
    "            \n",
    "        else:\n",
    "            print(feature_names[tree.feature_index], \"is\", tree.threshold,\" : info gain\", tree.info_gain)\n",
    "            \n",
    "            print(\"%sleft:\" % spacing, end=\"\")\n",
    "            self.print_results(tree.left, spacing + spacing)\n",
    "            \n",
    "            print(\"%sright:\" % spacing, end=\"\")\n",
    "            self.print_results(tree.right, spacing + spacing)"
   ]
  },
  {
   "cell_type": "markdown",
   "metadata": {},
   "source": [
    "## Implement Testing\n",
    "Using the original DecisionTree constructor, the fit() and print_results() methods, we can walk through and create a tree to fit to our training data. We will create it using on our 70% training set data and the test using the other 30% of our test set. "
   ]
  },
  {
   "cell_type": "code",
   "execution_count": 195,
   "metadata": {},
   "outputs": [
    {
     "name": "stdout",
     "output_type": "stream",
     "text": [
      "physician-fee-freeze is n  : info gain 0.3914058900451021\n",
      "   left:adoption-of-the-budget-resolution is ?  : info gain 0.008033226405719004\n",
      "      left:anti-satellite-test-ban is n  : info gain 0.21333333333333332\n",
      "            left:el-salvador-aid is ?  : info gain 0.1111111111111111\n",
      "                        left:republican\n",
      "                        right:republican\n",
      "            right:democrat\n",
      "      right:adoption-of-the-budget-resolution is n  : info gain 0.0025564953919960526\n",
      "            left:education-spending is ?  : info gain 0.10208333333333339\n",
      "                        left:republican\n",
      "                        right:democrat\n",
      "            right:democrat\n",
      "   right:synfuels-corporation-cutback is n  : info gain 0.030085660707317732\n",
      "      left:export-administration-act-south-africa is ?  : info gain 0.007136555239682527\n",
      "            left:mx-missile is n  : info gain 0.14222222222222206\n",
      "                        left:republican\n",
      "                        right:democrat\n",
      "            right:republican\n",
      "      right:mx-missile is n  : info gain 0.14911764705882347\n",
      "            left:adoption-of-the-budget-resolution is n  : info gain 0.16302901250998159\n",
      "                        left:republican\n",
      "                        right:democrat\n",
      "            right:democrat\n"
     ]
    }
   ],
   "source": [
    "tree = DecisionTree(3, 3)\n",
    "tree.fit(X_train, y_train)\n",
    "tree.print_results()"
   ]
  },
  {
   "cell_type": "markdown",
   "metadata": {},
   "source": [
    "### SKLearn Accuracy Score"
   ]
  },
  {
   "cell_type": "code",
   "execution_count": 196,
   "metadata": {},
   "outputs": [
    {
     "data": {
      "text/plain": [
       "0.9465648854961832"
      ]
     },
     "execution_count": 196,
     "metadata": {},
     "output_type": "execute_result"
    }
   ],
   "source": [
    "y_pred = tree.predict_results(X_test)\n",
    "from sklearn.metrics import accuracy_score\n",
    "accuracy_score(y_test, y_pred)"
   ]
  },
  {
   "cell_type": "markdown",
   "metadata": {},
   "source": [
    "### Test effectiveness of Minimum Splitting and Max Depth of this Decision Tree\n",
    "Originally, we randomly picked 3 for both the minimum splitting and max depth criteria. Just to confirm, I want to quickly test values of 2,4,5,6 to see the results in how the tree looks and accuracy score."
   ]
  },
  {
   "cell_type": "markdown",
   "metadata": {},
   "source": [
    "###### Minimum Splitting & Max Depth: 2     Accuracy-Score: 94.66%"
   ]
  },
  {
   "cell_type": "code",
   "execution_count": 197,
   "metadata": {},
   "outputs": [
    {
     "name": "stdout",
     "output_type": "stream",
     "text": [
      "physician-fee-freeze is n  : info gain 0.3914058900451021\n",
      "   left:adoption-of-the-budget-resolution is ?  : info gain 0.008033226405719004\n",
      "      left:anti-satellite-test-ban is n  : info gain 0.21333333333333332\n",
      "            left:republican\n",
      "            right:democrat\n",
      "      right:adoption-of-the-budget-resolution is n  : info gain 0.0025564953919960526\n",
      "            left:democrat\n",
      "            right:democrat\n",
      "   right:synfuels-corporation-cutback is n  : info gain 0.030085660707317732\n",
      "      left:export-administration-act-south-africa is ?  : info gain 0.007136555239682527\n",
      "            left:republican\n",
      "            right:republican\n",
      "      right:mx-missile is n  : info gain 0.14911764705882347\n",
      "            left:republican\n",
      "            right:democrat\n"
     ]
    }
   ],
   "source": [
    "# 2 for Minimum Splitting and Max Depth\n",
    "tree = DecisionTree(2, 2)\n",
    "tree.fit(X_train, y_train)\n",
    "tree.print_results()"
   ]
  },
  {
   "cell_type": "markdown",
   "metadata": {},
   "source": [
    "###### Minimum Splitting & Max Depth: 4     Accuracy-Score: 95.41%"
   ]
  },
  {
   "cell_type": "code",
   "execution_count": 198,
   "metadata": {},
   "outputs": [
    {
     "name": "stdout",
     "output_type": "stream",
     "text": [
      "physician-fee-freeze is n  : info gain 0.3914058900451021\n",
      "   left:adoption-of-the-budget-resolution is ?  : info gain 0.008033226405719004\n",
      "      left:anti-satellite-test-ban is n  : info gain 0.21333333333333332\n",
      "            left:republican\n",
      "            right:democrat\n",
      "      right:adoption-of-the-budget-resolution is n  : info gain 0.0025564953919960526\n",
      "            left:education-spending is ?  : info gain 0.10208333333333339\n",
      "                        left:republican\n",
      "                        right:religious-groups-in-schools is n  : info gain 0.02444444444444438\n",
      "                                                left:democrat\n",
      "                                                right:democrat\n",
      "            right:democrat\n",
      "   right:synfuels-corporation-cutback is n  : info gain 0.030085660707317732\n",
      "      left:export-administration-act-south-africa is ?  : info gain 0.007136555239682527\n",
      "            left:mx-missile is n  : info gain 0.14222222222222206\n",
      "                        left:adoption-of-the-budget-resolution is n  : info gain 0.04938271604938271\n",
      "                                                left:republican\n",
      "                                                right:republican\n",
      "                        right:democrat\n",
      "            right:republican\n",
      "      right:mx-missile is n  : info gain 0.14911764705882347\n",
      "            left:adoption-of-the-budget-resolution is n  : info gain 0.16302901250998159\n",
      "                        left:superfund-right-to-sue is n  : info gain 0.06508875739644954\n",
      "                                                left:republican\n",
      "                                                right:republican\n",
      "                        right:water-project-cost-sharing is n  : info gain 0.375\n",
      "                                                left:republican\n",
      "                                                right:democrat\n",
      "            right:democrat\n"
     ]
    }
   ],
   "source": [
    "tree = DecisionTree(4, 4)\n",
    "tree.fit(X_train, y_train)\n",
    "tree.print_results()"
   ]
  },
  {
   "cell_type": "code",
   "execution_count": 199,
   "metadata": {},
   "outputs": [
    {
     "data": {
      "text/plain": [
       "0.9541984732824428"
      ]
     },
     "execution_count": 199,
     "metadata": {},
     "output_type": "execute_result"
    }
   ],
   "source": [
    "y_pred = tree.predict_results(X_test)\n",
    "from sklearn.metrics import accuracy_score\n",
    "accuracy_score(y_test, y_pred)"
   ]
  },
  {
   "cell_type": "markdown",
   "metadata": {},
   "source": [
    "###### Minimum Splitting & Max Depth: 5     Accuracy-Score: 94.65%"
   ]
  },
  {
   "cell_type": "code",
   "execution_count": 200,
   "metadata": {},
   "outputs": [
    {
     "name": "stdout",
     "output_type": "stream",
     "text": [
      "physician-fee-freeze is n  : info gain 0.3914058900451021\n",
      "   left:adoption-of-the-budget-resolution is ?  : info gain 0.008033226405719004\n",
      "      left:anti-satellite-test-ban is n  : info gain 0.21333333333333332\n",
      "            left:republican\n",
      "            right:democrat\n",
      "      right:adoption-of-the-budget-resolution is n  : info gain 0.0025564953919960526\n",
      "            left:education-spending is ?  : info gain 0.10208333333333339\n",
      "                        left:republican\n",
      "                        right:religious-groups-in-schools is n  : info gain 0.02444444444444438\n",
      "                                                left:democrat\n",
      "                                                right:democrat\n",
      "            right:democrat\n",
      "   right:synfuels-corporation-cutback is n  : info gain 0.030085660707317732\n",
      "      left:export-administration-act-south-africa is ?  : info gain 0.007136555239682527\n",
      "            left:mx-missile is n  : info gain 0.14222222222222206\n",
      "                        left:adoption-of-the-budget-resolution is n  : info gain 0.04938271604938271\n",
      "                                                left:republican\n",
      "                                                right:republican\n",
      "                        right:democrat\n",
      "            right:republican\n",
      "      right:mx-missile is n  : info gain 0.14911764705882347\n",
      "            left:adoption-of-the-budget-resolution is n  : info gain 0.16302901250998159\n",
      "                        left:superfund-right-to-sue is n  : info gain 0.06508875739644954\n",
      "                                                left:republican\n",
      "                                                right:republican\n",
      "                        right:democrat\n",
      "            right:democrat\n"
     ]
    }
   ],
   "source": [
    "tree = DecisionTree(5, 5)\n",
    "tree.fit(X_train, y_train)\n",
    "tree.print_results()"
   ]
  },
  {
   "cell_type": "code",
   "execution_count": 201,
   "metadata": {},
   "outputs": [
    {
     "data": {
      "text/plain": [
       "0.9465648854961832"
      ]
     },
     "execution_count": 201,
     "metadata": {},
     "output_type": "execute_result"
    }
   ],
   "source": [
    "y_pred = tree.predict_results(X_test)\n",
    "from sklearn.metrics import accuracy_score\n",
    "accuracy_score(y_test, y_pred)"
   ]
  },
  {
   "cell_type": "markdown",
   "metadata": {},
   "source": [
    "###### Minimum Splitting & Max Depth: 6     Accuracy-Score: 95.42%"
   ]
  },
  {
   "cell_type": "code",
   "execution_count": 202,
   "metadata": {},
   "outputs": [
    {
     "name": "stdout",
     "output_type": "stream",
     "text": [
      "physician-fee-freeze is n  : info gain 0.3914058900451021\n",
      "   left:adoption-of-the-budget-resolution is ?  : info gain 0.008033226405719004\n",
      "      left:democrat\n",
      "      right:adoption-of-the-budget-resolution is n  : info gain 0.0025564953919960526\n",
      "            left:education-spending is ?  : info gain 0.10208333333333339\n",
      "                        left:republican\n",
      "                        right:religious-groups-in-schools is n  : info gain 0.02444444444444438\n",
      "                                                left:democrat\n",
      "                                                right:democrat\n",
      "            right:democrat\n",
      "   right:synfuels-corporation-cutback is n  : info gain 0.030085660707317732\n",
      "      left:export-administration-act-south-africa is ?  : info gain 0.007136555239682527\n",
      "            left:mx-missile is n  : info gain 0.14222222222222206\n",
      "                        left:adoption-of-the-budget-resolution is n  : info gain 0.04938271604938271\n",
      "                                                left:republican\n",
      "                                                right:republican\n",
      "                        right:democrat\n",
      "            right:republican\n",
      "      right:mx-missile is n  : info gain 0.14911764705882347\n",
      "            left:adoption-of-the-budget-resolution is n  : info gain 0.16302901250998159\n",
      "                        left:superfund-right-to-sue is n  : info gain 0.06508875739644954\n",
      "                                                left:republican\n",
      "                                                right:republican\n",
      "                        right:democrat\n",
      "            right:democrat\n"
     ]
    }
   ],
   "source": [
    "tree = DecisionTree(6, 6)\n",
    "tree.fit(X_train, y_train)\n",
    "tree.print_results()"
   ]
  },
  {
   "cell_type": "code",
   "execution_count": 203,
   "metadata": {},
   "outputs": [
    {
     "data": {
      "text/plain": [
       "0.9541984732824428"
      ]
     },
     "execution_count": 203,
     "metadata": {},
     "output_type": "execute_result"
    }
   ],
   "source": [
    "y_pred = tree.predict_results(X_test)\n",
    "from sklearn.metrics import accuracy_score\n",
    "accuracy_score(y_test, y_pred)"
   ]
  },
  {
   "cell_type": "markdown",
   "metadata": {},
   "source": [
    "### Confusion Matrix using SKLearn"
   ]
  },
  {
   "cell_type": "code",
   "execution_count": 204,
   "metadata": {},
   "outputs": [
    {
     "data": {
      "text/plain": [
       "array([[76,  3],\n",
       "       [ 3, 49]], dtype=int64)"
      ]
     },
     "execution_count": 204,
     "metadata": {},
     "output_type": "execute_result"
    }
   ],
   "source": [
    "from sklearn.metrics import confusion_matrix\n",
    "confusion_matrix(y_test, y_pred)"
   ]
  },
  {
   "cell_type": "code",
   "execution_count": 205,
   "metadata": {},
   "outputs": [
    {
     "data": {
      "text/plain": [
       "0.9541984732824428"
      ]
     },
     "execution_count": 205,
     "metadata": {},
     "output_type": "execute_result"
    }
   ],
   "source": [
    "accuracy = (76+49)/(76+49+3+3)\n",
    "accuracy"
   ]
  },
  {
   "cell_type": "code",
   "execution_count": 206,
   "metadata": {},
   "outputs": [
    {
     "data": {
      "text/plain": [
       "0.9620253164556962"
      ]
     },
     "execution_count": 206,
     "metadata": {},
     "output_type": "execute_result"
    }
   ],
   "source": [
    "precision = (76)/(76+3)\n",
    "precision"
   ]
  },
  {
   "cell_type": "code",
   "execution_count": 207,
   "metadata": {},
   "outputs": [
    {
     "data": {
      "text/plain": [
       "0.5975609756097561"
      ]
     },
     "execution_count": 207,
     "metadata": {},
     "output_type": "execute_result"
    }
   ],
   "source": [
    "sensitivity = (49)/(79+3)\n",
    "sensitivity"
   ]
  },
  {
   "cell_type": "code",
   "execution_count": 208,
   "metadata": {},
   "outputs": [
    {
     "data": {
      "text/plain": [
       "0.7372067702662576"
      ]
     },
     "execution_count": 208,
     "metadata": {},
     "output_type": "execute_result"
    }
   ],
   "source": [
    "f1_score = 2 * ((precision * sensitivity)/(precision + sensitivity))\n",
    "f1_score"
   ]
  },
  {
   "cell_type": "markdown",
   "metadata": {},
   "source": [
    "## Evaluation\n",
    "The accuracy calculated using sklearn and the sklearn confusion matrix seems misleading. If I had more time, I would like to mess around with the testing using kfolding and other strategies to try to decipher what areas this model is the weakest in. The F1 score indicates a relatively decent precision and sensitivity result. I wish I could've done more and dove deeper into this assignment, however, I will submit at this point despite not having nearly as much quality (non-sklearn) testing done. "
   ]
  }
 ],
 "metadata": {
  "kernelspec": {
   "display_name": "Python 3",
   "language": "python",
   "name": "python3"
  },
  "language_info": {
   "codemirror_mode": {
    "name": "ipython",
    "version": 3
   },
   "file_extension": ".py",
   "mimetype": "text/x-python",
   "name": "python",
   "nbconvert_exporter": "python",
   "pygments_lexer": "ipython3",
   "version": "3.8.5"
  }
 },
 "nbformat": 4,
 "nbformat_minor": 4
}
